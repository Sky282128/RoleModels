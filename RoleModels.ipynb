{
 "cells": [
  {
   "cell_type": "markdown",
   "id": "d4c7c1b0",
   "metadata": {},
   "source": [
    "## Role Models\n",
    "Presented by Aldrin G. Hsu, Wesley Brian T. Sy, and Gian Martin C. Carlos\n",
    "\n"
   ]
  },
  {
   "cell_type": "code",
   "execution_count": 2,
   "id": "69cace4b-dc57-4e3e-9703-33c0bc0709c2",
   "metadata": {},
   "outputs": [
    {
     "ename": "SyntaxError",
     "evalue": "invalid syntax (2337873316.py, line 4)",
     "output_type": "error",
     "traceback": [
      "\u001b[1;36m  Cell \u001b[1;32mIn[2], line 4\u001b[1;36m\u001b[0m\n\u001b[1;33m    The dataset includes national-level data from the Philippines detailing the **percentage share of total family income and total family expenditure**, disaggregated by **region, province, and highly urbanized city (HUC)** for the years **2018**, **2021**, and **2023**. These figures allow for analyzing trends in income distribution and household spending behavior across geographic locations and time periods.\u001b[0m\n\u001b[1;37m        ^\u001b[0m\n\u001b[1;31mSyntaxError\u001b[0m\u001b[1;31m:\u001b[0m invalid syntax\n"
     ]
    }
   ],
   "source": [
    "#Dataset Description\n",
    "\n",
    "### **Dataset Overview**  \n",
    "The dataset includes national-level data from the Philippines showcasing the **percentage share of total family income and total family expenditure**, disaggregated by **each region, province, and highly urbanized city (HUC)** for the years **2018**, **2021**, and **2023**. These figures allow for data analysis in the trends of income distribution and household spending behavior across each geographic locations and time period in the Philippines.\n",
    "\n",
    "---\n",
    "\n",
    "### **How the Dataset Was Collected**  \n",
    "The dataset was collected by the **Philippine Statistics Authority (PSA)** as part of their **Family Income and Expenditure Survey (FIES)**. The FIES is conducted every three years using techniques such as probability sampling to gather economic data across the country. The Surveys are administered in person by PSA field staffs.\n",
    "\n",
    "---\n",
    "\n",
    "### **Potential Implications of Data Collection**  \n",
    "Since the survey relies on **self-reported data**, responses may be affected by **recall bias or underreporting**, especially on sensitive financial matters. Additionally, regions that are remote and households in the informal sector may have underpresented and inconsistent data due to logistical, economic, and social reasons. Factors such as these mentioned can affect the accuracy and generalizability of the income and expenditure shares reported in the dataset.\n",
    "\n",
    "---\n",
    "\n",
    "### **Structure of the Data**  \n",
    "The dataset is **structured and tabular**.\n",
    "\n",
    "Each **row** represents:  \n",
    "- A specific **geographical unit** (Region, Province, or HUC) for a **specific year** (2018, 2021, or 2023).\n",
    "\n",
    "Each **column** represents:  \n",
    "- Either a share of **total income** (Table 6) or **total expenditure** (Table 7).\n",
    "\n",
    "**Total Number of Observations**:  \n",
    "- Varies based on the number of geographic units reported for each year.\n",
    "\n",
    "**Attributes/Features Present**:  \n",
    "- `Year` – The survey year  \n",
    "- `Geographic_Unit` – Region/Province/HUC  \n",
    "- `Income_Share` – % share to total national income  \n",
    "- `Expenditure_Share` – % share to total national expenditure\n",
    "\n",
    "---\n",
    "\n",
    "### **Brief Description of the Attributes**\n",
    "\n",
    "| Attribute Name            | Description |\n",
    "|---------------------------|-------------|\n",
    "| `Year`                    | Survey year (2018, 2021, or 2023) |\n",
    "| `Region`                  | Name of the region (e.g., NCR, Region IV-A) |\n",
    "| `Province` / `HUC`        | Name of the province or highly urbanized city |\n",
    "| `Income_Share (%)`        | Share of the geographic unit to the total national family income |\n",
    "| `Expenditure_Share (%)`   | Share of the geographic unit to the total national family expenditure |\n"
   ]
  }
 ],
 "metadata": {
  "kernelspec": {
   "display_name": "Python [conda env:base] *",
   "language": "python",
   "name": "conda-base-py"
  },
  "language_info": {
   "codemirror_mode": {
    "name": "ipython",
    "version": 3
   },
   "file_extension": ".py",
   "mimetype": "text/x-python",
   "name": "python",
   "nbconvert_exporter": "python",
   "pygments_lexer": "ipython3",
   "version": "3.12.7"
  }
 },
 "nbformat": 4,
 "nbformat_minor": 5
}
